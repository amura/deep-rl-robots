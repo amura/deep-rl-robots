{
 "metadata": {
  "language_info": {
   "codemirror_mode": {
    "name": "ipython",
    "version": 3
   },
   "file_extension": ".py",
   "mimetype": "text/x-python",
   "name": "python",
   "nbconvert_exporter": "python",
   "pygments_lexer": "ipython3",
   "version": "3.6.4-final"
  },
  "orig_nbformat": 2,
  "kernelspec": {
   "name": "python3",
   "display_name": "Python 3.6.4 64-bit (conda)",
   "metadata": {
    "interpreter": {
     "hash": "3e39b0670366da3dec20bd672ea68beb42d2294e32c10d5c92639142e74d2f57"
    }
   }
  }
 },
 "nbformat": 4,
 "nbformat_minor": 2,
 "cells": [
  {
   "source": [
    "# Exploring gym environment\n",
    "[useful ref](https://www.learndatasci.com/tutorials/reinforcement-q-learning-scratch-python-openai-gym/)\n",
    ">     Passenger locations:\n",
    "    - 0: R(ed)\n",
    "    - 1: G(reen)\n",
    "    - 2: Y(ellow)\n",
    "    - 3: B(lue)\n",
    "    - 4: in taxi (Taxi is yellow)\n",
    "    Destinations:\n",
    "    - 0: R(ed)\n",
    "    - 1: G(reen)\n",
    "    - 2: Y(ellow)\n",
    "    - 3: B(lue)\n",
    "    Actions:\n",
    "    There are 6 discrete deterministic actions:\n",
    "    - 0: move south\n",
    "    - 1: move north\n",
    "    - 2: move east\n",
    "    - 3: move west\n",
    "    - 4: pickup passenger\n",
    "    - 5: drop off passenger\n",
    "\n",
    "> Summary\n",
    "    5x5x5x4 = 500 possible states\n",
    "\n",
    "` Each step in environment returns\n",
    "    Observation\n",
    "    Reward\n",
    "    done: If step resulted in drop off / pick up -> episode\n",
    "    Info`\n",
    "\n",
    "> Blue letter : Current passenger pick up locations\n",
    "  Purple letter is current destination"
   ],
   "cell_type": "markdown",
   "metadata": {}
  },
  {
   "cell_type": "code",
   "execution_count": 1,
   "metadata": {},
   "outputs": [],
   "source": [
    "import gym"
   ]
  },
  {
   "cell_type": "code",
   "execution_count": 2,
   "metadata": {},
   "outputs": [
    {
     "output_type": "stream",
     "name": "stdout",
     "text": [
      "+---------+\n|\u001b[35mR\u001b[0m: | : :G|\n| : | : :\u001b[43m \u001b[0m|\n| : : : : |\n| | : | : |\n|\u001b[34;1mY\u001b[0m| : |B: |\n+---------+\n\n"
     ]
    }
   ],
   "source": [
    "env = gym.make('Taxi-v3')\n",
    "env.render()"
   ]
  },
  {
   "source": [
    "## States and Actions"
   ],
   "cell_type": "markdown",
   "metadata": {}
  },
  {
   "cell_type": "code",
   "execution_count": 3,
   "metadata": {},
   "outputs": [
    {
     "output_type": "stream",
     "name": "stdout",
     "text": [
      "Actions Discrete(6)\nStates Discrete(500)\n"
     ]
    }
   ],
   "source": [
    "print(\"Actions {}\".format(env.action_space))\n",
    "print(\"States {}\".format(env.observation_space))"
   ]
  },
  {
   "source": [
    "## Rendering different states\n",
    "### Random steps\n"
   ],
   "cell_type": "markdown",
   "metadata": {}
  },
  {
   "cell_type": "code",
   "execution_count": 161,
   "metadata": {},
   "outputs": [
    {
     "output_type": "stream",
     "name": "stdout",
     "text": [
      "+---------+\n|\u001b[35mR\u001b[0m: | : :\u001b[34;1mG\u001b[0m|\n| :\u001b[43m \u001b[0m| : : |\n| : : : : |\n| | : | : |\n|Y| : |B: |\n+---------+\n  (North)\n"
     ]
    }
   ],
   "source": [
    "# reset to get random initial state\n",
    "env.reset()\n",
    "result = env.step(1) # step env by 1 timestep, returns: <observation, reward, done, info>\n",
    "env.render()"
   ]
  },
  {
   "source": [
    "### Trying out a move\n",
    "> set random positions\n",
    " "
   ],
   "cell_type": "markdown",
   "metadata": {}
  },
  {
   "cell_type": "code",
   "execution_count": 162,
   "metadata": {},
   "outputs": [
    {
     "output_type": "stream",
     "name": "stdout",
     "text": [
      "0\n+---------+\n|\u001b[35mR\u001b[0m: | : :\u001b[34;1mG\u001b[0m|\n| :\u001b[43m \u001b[0m| : : |\n| : : : : |\n| | : | : |\n|Y| : |B: |\n+---------+\n  (North)\n"
     ]
    }
   ],
   "source": [
    "env.s = env.action_space.sample()\n",
    "print(env.s)\n",
    "env.render()\n"
   ]
  },
  {
   "source": [
    "Move south and visualize state"
   ],
   "cell_type": "markdown",
   "metadata": {}
  },
  {
   "cell_type": "code",
   "execution_count": 166,
   "metadata": {},
   "outputs": [
    {
     "output_type": "stream",
     "name": "stdout",
     "text": [
      "(124, -1, False, {'prob': 1.0})\n+---------+\n|\u001b[35mR\u001b[0m: | : :\u001b[34;1mG\u001b[0m|\n| :\u001b[43m \u001b[0m| : : |\n| : : : : |\n| | : | : |\n|Y| : |B: |\n+---------+\n  (South)\n"
     ]
    }
   ],
   "source": [
    "# set position for taxi row, col, passenger, destination\n",
    "# Location of passenger: Yellow, destination is Green, Taxi in row 0, col 1\n",
    "newState = env.step(0)\n",
    "env.s = newState\n",
    "print(env.s)\n",
    "env.render()"
   ]
  },
  {
   "source": [
    "Take random action and visualize"
   ],
   "cell_type": "markdown",
   "metadata": {}
  },
  {
   "cell_type": "code",
   "execution_count": 182,
   "metadata": {},
   "outputs": [
    {
     "output_type": "stream",
     "name": "stdout",
     "text": [
      "(368, -1, False, {'prob': 1.0})\n+---------+\n|\u001b[35mR\u001b[0m: | : :G|\n| : | : : |\n| : : : : |\n| | : |\u001b[43m \u001b[0m: |\n|\u001b[34;1mY\u001b[0m| : |B: |\n+---------+\n  (South)\n"
     ]
    }
   ],
   "source": [
    "from IPython.display import clear_output\n",
    "from time import sleep\n",
    "import random\n",
    "env.reset()\n",
    "ticks = 0\n",
    "done = False\n",
    "while not done:    \n",
    "    k = random.randint(0,3)\n",
    "    newState = env.step(k)\n",
    "    print(newState)\n",
    "    env.render()    \n",
    "    sleep(.2)\n",
    "    clear_output(wait=True)\n",
    "    ticks += 1\n",
    "    if ticks == 100:\n",
    "        done = True"
   ]
  },
  {
   "source": [
    "Reward table for the final state from above"
   ],
   "cell_type": "markdown",
   "metadata": {}
  },
  {
   "cell_type": "code",
   "execution_count": 184,
   "metadata": {},
   "outputs": [
    {
     "output_type": "stream",
     "name": "stdout",
     "text": [
      "368\n"
     ]
    },
    {
     "output_type": "execute_result",
     "data": {
      "text/plain": [
       "{0: [(1.0, 468, -1, False)],\n",
       " 1: [(1.0, 268, -1, False)],\n",
       " 2: [(1.0, 388, -1, False)],\n",
       " 3: [(1.0, 368, -1, False)],\n",
       " 4: [(1.0, 368, -10, False)],\n",
       " 5: [(1.0, 368, -10, False)]}"
      ]
     },
     "metadata": {},
     "execution_count": 184
    }
   ],
   "source": [
    "\n",
    "print(newState[0])\n",
    "env.P[newState[0]]"
   ]
  },
  {
   "source": [
    "`{action: [(probability, nextstate, reward, done)]}`"
   ],
   "cell_type": "markdown",
   "metadata": {}
  }
 ]
}